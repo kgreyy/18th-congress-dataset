{
 "cells": [
  {
   "cell_type": "markdown",
   "id": "e157c11a",
   "metadata": {},
   "source": [
    "# House of Representatives HTML Extractor\n",
    "\n",
    "## PART 1: Preliminaries\n",
    "\n",
    "Import Dependencies and load the HTML source"
   ]
  },
  {
   "cell_type": "code",
   "execution_count": 1,
   "id": "617e36a6",
   "metadata": {},
   "outputs": [],
   "source": [
    "from bs4 import BeautifulSoup\n",
    "import re\n",
    "\n",
    "with open(\"House of Representatives.html\", encoding = \"utf-8\") as HR:\n",
    "\tsoup = BeautifulSoup(HR, 'html.parser')"
   ]
  },
  {
   "cell_type": "markdown",
   "id": "a8b40da2",
   "metadata": {},
   "source": [
    "The code cell below is the upper \"\\<div\\>\" tag"
   ]
  },
  {
   "cell_type": "code",
   "execution_count": 2,
   "id": "eb956466",
   "metadata": {
    "scrolled": false
   },
   "outputs": [],
   "source": [
    "div_tags = soup.body.find_all('div', recursive = False)\n",
    "b = div_tags[1]"
   ]
  },
  {
   "cell_type": "markdown",
   "id": "50cfeb39",
   "metadata": {},
   "source": [
    "c contains the next hierarchy to the list"
   ]
  },
  {
   "cell_type": "code",
   "execution_count": 3,
   "id": "7547589b",
   "metadata": {},
   "outputs": [],
   "source": [
    "for i in b.div.find_all('div', recursive = False):\n",
    "    if i['class'] == ['col-md-8']:\n",
    "        c = i"
   ]
  },
  {
   "cell_type": "markdown",
   "id": "23c7a1c7",
   "metadata": {},
   "source": [
    "d now contains the list while `lis` now contains all items with `<div class = \"panel-body\">`. This `div` tag now contains the data."
   ]
  },
  {
   "cell_type": "code",
   "execution_count": 4,
   "id": "0a0b65d2",
   "metadata": {},
   "outputs": [
    {
     "data": {
      "text/plain": [
       "(13972, 13972)"
      ]
     },
     "execution_count": 4,
     "metadata": {},
     "output_type": "execute_result"
    }
   ],
   "source": [
    "div_names = []\n",
    "\n",
    "for j in c:\n",
    "    if j.name == 'div':\n",
    "        div_names.append(j)\n",
    "\n",
    "d = div_names[1]\n",
    "lis1 = d.find_all(\"div\", class_ = \"panel-heading\")\n",
    "lis2 = d.find_all(\"div\", class_ = \"panel-body\")\n",
    "len(lis1), len(lis2)"
   ]
  },
  {
   "cell_type": "markdown",
   "id": "e144a3dd",
   "metadata": {},
   "source": [
    "The following cells below represents instances of a `lis` entry"
   ]
  },
  {
   "cell_type": "code",
   "execution_count": 5,
   "id": "64c4a7b2",
   "metadata": {},
   "outputs": [
    {
     "name": "stdout",
     "output_type": "stream",
     "text": [
      "Significance: National\n",
      "Date Filed: 2019-07-01\n",
      "Full Title: AN ACT INSTITUTIONALIZING A NATIONAL VALUES, ETIQUETTE, AND MORAL UPRIGHTNESS PROGRAM\n",
      "Principal Author/s: 1. CAYETANO, ALAN PETER \"COMPAÑERO\" S. 2. MADRONA. ELEANDRO JESUS F. 3. UNGAB, ISIDRO T.\n",
      "Date Read: 2019-07-23\n",
      "Primary Referral: BASIC EDUCATION AND CULTURE\n",
      "Bill Status: Substituted by HB05829\n",
      "Mother Bill Status: Republic Act RA11476 enacted on 2020-06-25\n"
     ]
    },
    {
     "data": {
      "text/plain": [
       "'HB00001'"
      ]
     },
     "execution_count": 5,
     "metadata": {},
     "output_type": "execute_result"
    }
   ],
   "source": [
    "test_var = lis2[0].find_all('p')\n",
    "\n",
    "for i in test_var:\n",
    "    print(i.text)\n",
    "\n",
    "code = lis1[0].text\n",
    "code"
   ]
  },
  {
   "cell_type": "code",
   "execution_count": 6,
   "id": "e18bf413",
   "metadata": {},
   "outputs": [
    {
     "name": "stdout",
     "output_type": "stream",
     "text": [
      "Significance: National\n",
      "Date Filed: 2019-07-01\n",
      "Full Title: AN ACT CREATING THE DEPARTMENT OF OVERSEAS FILIPINO WORKERS (OFW) AND FOREIGN EMPLOYMENT, DEFINING ITS POWERS AND FUNCTIONS, APPROPRIATING FUNDS THEREFOR, RATIONALIZING THE ORGANIZATION AND FUNCTIONS OF GOVERNMENT AGENCIES RELATED TO MIGRATION, AND FOR OTHER PURPOSES\n",
      "Principal Author/s: 1. CAYETANO, ALAN PETER \"COMPAÑERO\" S. 2. CAYETANO, MARIA LAARNI 3. DUTERTE, PAOLO Z.\n",
      "Date Read: 2019-07-23\n",
      "Primary Referral: GOVERNMENT REORGANIZATION\n",
      "Bill Status: Substituted by HB05832\n",
      "Mother Bill Status: Republic Act RA11641 enacted on 2021-12-30\n"
     ]
    },
    {
     "data": {
      "text/plain": [
       "'HB00002'"
      ]
     },
     "execution_count": 6,
     "metadata": {},
     "output_type": "execute_result"
    }
   ],
   "source": [
    "test_var = lis2[1].find_all('p')\n",
    "\n",
    "for i in test_var:\n",
    "    print(i.text)\n",
    "\n",
    "code = lis1[1].text\n",
    "code"
   ]
  },
  {
   "cell_type": "markdown",
   "id": "d1f32f27",
   "metadata": {},
   "source": [
    "## PART 2: Define the `extract_data` Function"
   ]
  },
  {
   "cell_type": "code",
   "execution_count": 7,
   "id": "b965b8cc",
   "metadata": {},
   "outputs": [
    {
     "name": "stdout",
     "output_type": "stream",
     "text": [
      "Requirement already satisfied: more_itertools in c:\\users\\james\\appdata\\local\\programs\\python\\python310\\lib\\site-packages (8.13.0)\n"
     ]
    },
    {
     "name": "stderr",
     "output_type": "stream",
     "text": [
      "WARNING: You are using pip version 21.2.3; however, version 22.0.4 is available.\n",
      "You should consider upgrading via the 'C:\\Users\\james\\AppData\\Local\\Programs\\Python\\Python310\\python.exe -m pip install --upgrade pip' command.\n"
     ]
    }
   ],
   "source": [
    "!pip install more_itertools"
   ]
  },
  {
   "cell_type": "code",
   "execution_count": 49,
   "id": "90e44737",
   "metadata": {},
   "outputs": [],
   "source": [
    "features = ['Significance',\n",
    " 'Date Filed',\n",
    " 'Full Title',\n",
    " 'Principal Author/s',\n",
    " 'Date Read',\n",
    " 'Primary Referral',\n",
    " 'Bill Status',\n",
    " 'Mother Bill Status',\n",
    " 'Date Approved on Second Reading',\n",
    " 'Date Approved on Third Reading',\n",
    " 'Senate Bill Counterpart',\n",
    " 'Date Acted Upon By the President',\n",
    " 'Republic Act No.']\n",
    "\n",
    "def extract_data(code, tag, lis):\n",
    "    entry = dict()\n",
    "    entry['ID'] = code.text\n",
    "    test_var = tag.find_all('p')\n",
    "    \n",
    "    \n",
    "    for j in lis:\n",
    "        flag = 0\n",
    "        for i in test_var:\n",
    "            temp = i.text\n",
    "            keys = temp[:temp.index(':')]\n",
    "            values = temp[temp.index(':')+2:]\n",
    "            if j == keys and j == 'Principal Author/s':\n",
    "                temp_lis = re.split(r'\\d+\\.\\s*', values)\n",
    "                congs = list(set([x.strip() for x in temp_lis])-{''})\n",
    "                entry[j] = ';'.join(congs).strip()\n",
    "                entry['Author Count'] = len(congs)\n",
    "                flag = 1\n",
    "                break\n",
    "            elif j == keys:\n",
    "                entry[j] = values\n",
    "                flag = 1\n",
    "                break\n",
    "        if flag == 0:\n",
    "            entry[j] = None\n",
    "\n",
    "    return entry"
   ]
  },
  {
   "cell_type": "code",
   "execution_count": 50,
   "id": "da9f40c5",
   "metadata": {},
   "outputs": [
    {
     "data": {
      "text/plain": [
       "{'ID': 'HB00001',\n",
       " 'Significance': 'National',\n",
       " 'Date Filed': '2019-07-01',\n",
       " 'Full Title': 'AN ACT INSTITUTIONALIZING A NATIONAL VALUES, ETIQUETTE, AND MORAL UPRIGHTNESS PROGRAM',\n",
       " 'Principal Author/s': 'UNGAB, ISIDRO T.;CAYETANO, ALAN PETER \"COMPAÑERO\" S.;MADRONA. ELEANDRO JESUS F.',\n",
       " 'Author Count': 3,\n",
       " 'Date Read': '2019-07-23',\n",
       " 'Primary Referral': 'BASIC EDUCATION AND CULTURE',\n",
       " 'Bill Status': 'Substituted by HB05829',\n",
       " 'Mother Bill Status': 'Republic Act RA11476 enacted on 2020-06-25',\n",
       " 'Date Approved on Second Reading': None,\n",
       " 'Date Approved on Third Reading': None,\n",
       " 'Senate Bill Counterpart': None,\n",
       " 'Date Acted Upon By the President': None,\n",
       " 'Republic Act No.': None}"
      ]
     },
     "execution_count": 50,
     "metadata": {},
     "output_type": "execute_result"
    }
   ],
   "source": [
    "extract_data(lis1[0], lis2[0], features)"
   ]
  },
  {
   "cell_type": "code",
   "execution_count": 51,
   "id": "642cfb86",
   "metadata": {},
   "outputs": [
    {
     "data": {
      "text/plain": [
       "{'ID': 'RPT1446',\n",
       " 'Significance': None,\n",
       " 'Date Filed': '2022-01-31',\n",
       " 'Full Title': 'MOTU PROPRIO INQUIRY, IN AID OF LEGISLATION, ON THE REPORT OF THE COMMISSION ON AUDIT REGARDING THE ALLEGED OVERPRICED MEDICAL AND HEALTH EQUIPMENT BY THE DEPARTMENT OF HEALTH UTILIZED FOR THE COVID-19 RESPONSE',\n",
       " 'Principal Author/s': 'GOOD GOVERNMENT AND PUBLIC ACCOUNTABILITY',\n",
       " 'Author Count': 1,\n",
       " 'Date Read': '2022-01-31',\n",
       " 'Primary Referral': 'GOOD GOVERNMENT AND PUBLIC ACCOUNTABILITY',\n",
       " 'Bill Status': 'Pending With Rules (Included in OB on 2022-01-31)',\n",
       " 'Mother Bill Status': None,\n",
       " 'Date Approved on Second Reading': None,\n",
       " 'Date Approved on Third Reading': None,\n",
       " 'Senate Bill Counterpart': None,\n",
       " 'Date Acted Upon By the President': None,\n",
       " 'Republic Act No.': None}"
      ]
     },
     "execution_count": 51,
     "metadata": {},
     "output_type": "execute_result"
    }
   ],
   "source": [
    "extract_data(lis1[13971], lis2[13971], features)"
   ]
  },
  {
   "cell_type": "code",
   "execution_count": 52,
   "id": "9864cf9b",
   "metadata": {},
   "outputs": [
    {
     "data": {
      "text/plain": [
       "{'ID': 'HB00011',\n",
       " 'Significance': 'Local',\n",
       " 'Date Filed': '2019-07-01',\n",
       " 'Full Title': 'AN ACT CREATING THE MEGA CEBU DEVELOPMENT AUTHORITY, PRESCRIBING ITS FUNCTIONS AND DUTIES, AND PROVIDING FUNDS THEREFOR',\n",
       " 'Principal Author/s': 'DEL MAR, RAUL V.',\n",
       " 'Author Count': 1,\n",
       " 'Date Read': '2019-07-23',\n",
       " 'Primary Referral': 'GOVERNMENT ENTERPRISES AND PRIVATIZATION',\n",
       " 'Bill Status': 'Pending with the Committee on GOVERNMENT ENTERPRISES AND PRIVATIZATION since 2020-08-26',\n",
       " 'Mother Bill Status': None,\n",
       " 'Date Approved on Second Reading': None,\n",
       " 'Date Approved on Third Reading': None,\n",
       " 'Senate Bill Counterpart': None,\n",
       " 'Date Acted Upon By the President': None,\n",
       " 'Republic Act No.': None}"
      ]
     },
     "execution_count": 52,
     "metadata": {},
     "output_type": "execute_result"
    }
   ],
   "source": [
    "extract_data(lis1[10], lis2[10], features)"
   ]
  },
  {
   "cell_type": "markdown",
   "id": "5066103f",
   "metadata": {},
   "source": [
    "## PART 3: Extracting the Data Per Se"
   ]
  },
  {
   "cell_type": "code",
   "execution_count": 53,
   "id": "b1100f94",
   "metadata": {},
   "outputs": [],
   "source": [
    "our_data = []\n",
    "\n",
    "for i in range(13972):\n",
    "    our_data.append(extract_data(lis1[i], lis2[i], features))"
   ]
  },
  {
   "cell_type": "code",
   "execution_count": 13,
   "id": "68da77da",
   "metadata": {},
   "outputs": [
    {
     "data": {
      "text/plain": [
       "{'ID': 'RPT1446',\n",
       " 'Significance': None,\n",
       " 'Date Filed': '2022-01-31',\n",
       " 'Full Title': 'MOTU PROPRIO INQUIRY, IN AID OF LEGISLATION, ON THE REPORT OF THE COMMISSION ON AUDIT REGARDING THE ALLEGED OVERPRICED MEDICAL AND HEALTH EQUIPMENT BY THE DEPARTMENT OF HEALTH UTILIZED FOR THE COVID-19 RESPONSE',\n",
       " 'Principal Author/s': ';GOOD GOVERNMENT AND PUBLIC ACCOUNTABILITY',\n",
       " 'Author Count': None,\n",
       " 'Date Read': '2022-01-31',\n",
       " 'Primary Referral': 'GOOD GOVERNMENT AND PUBLIC ACCOUNTABILITY',\n",
       " 'Bill Status': 'Pending With Rules (Included in OB on 2022-01-31)',\n",
       " 'Mother Bill Status': None,\n",
       " 'Date Approved on Second Reading': None,\n",
       " 'Date Approved on Third Reading': None,\n",
       " 'Senate Bill Counterpart': None,\n",
       " 'Date Acted Upon By the President': None,\n",
       " 'Republic Act No.': None}"
      ]
     },
     "execution_count": 13,
     "metadata": {},
     "output_type": "execute_result"
    }
   ],
   "source": [
    "our_data[13971]"
   ]
  },
  {
   "cell_type": "code",
   "execution_count": 54,
   "id": "256bcb1d",
   "metadata": {
    "scrolled": true
   },
   "outputs": [
    {
     "data": {
      "text/plain": [
       "{'ID': 'HB02674',\n",
       " 'Significance': 'Local',\n",
       " 'Date Filed': '2019-07-24',\n",
       " 'Full Title': 'AN ACT ESTABLISHING A DISTRICT BRANCH OF THE LAND TRANSPORTATION OFFICE (LTO) IN THE MUNICIPALITY OF LABO IN THE 1ST DISTRICT OF CAMARINES NORTE, AND APPROPRIATING FUNDS THEREFOR',\n",
       " 'Principal Author/s': 'TALLADO, JOSEFINA B.;UNGAB, ISIDRO T.;SARMIENTO, EDGAR S.',\n",
       " 'Author Count': 3,\n",
       " 'Date Read': '2019-07-31',\n",
       " 'Primary Referral': 'TRANSPORTATION',\n",
       " 'Bill Status': 'House agreed to the amendments of the Senate on 2022-02-02',\n",
       " 'Mother Bill Status': None,\n",
       " 'Date Approved on Second Reading': '2019-12-18',\n",
       " 'Date Approved on Third Reading': '2020-02-04',\n",
       " 'Senate Bill Counterpart': None,\n",
       " 'Date Acted Upon By the President': None,\n",
       " 'Republic Act No.': None}"
      ]
     },
     "execution_count": 54,
     "metadata": {},
     "output_type": "execute_result"
    }
   ],
   "source": [
    "our_data[2667]"
   ]
  },
  {
   "cell_type": "code",
   "execution_count": 55,
   "id": "52c4d54a",
   "metadata": {},
   "outputs": [
    {
     "data": {
      "text/plain": [
       "{'ID': 'HB06952',\n",
       " 'Significance': 'National',\n",
       " 'Date Filed': '2020-06-03',\n",
       " 'Full Title': 'AN ACT PROVIDING FOR COVID-19 RESPONSE AND RECOVERY INTERVENTIONS AND PROVIDING MECHANISM TO ACCELERATE THE RECOVERY AND BOLSTER THE RESILIENCY OF THE PHILIPPINE ECONOMY, PROVIDING FUNDS THEREFOR, AND FOR OTHER PURPOSES',\n",
       " 'Principal Author/s': 'DEFENSOR,, MICHAEL T.;VILLAFUERTE, LUIS RAYMUND \"LRAY\" JR F.;ROMUALDEZ, FERDINAND MARTIN G.;SY-ALVARADO, \"KUYA\" JOSE ANTONIO R.',\n",
       " 'Author Count': 4,\n",
       " 'Date Read': '2020-06-03',\n",
       " 'Primary Referral': 'RULES',\n",
       " 'Bill Status': 'Substituted by HB06953',\n",
       " 'Mother Bill Status': 'Republic Act RA11494 enacted on 2020-09-11',\n",
       " 'Date Approved on Second Reading': None,\n",
       " 'Date Approved on Third Reading': None,\n",
       " 'Senate Bill Counterpart': None,\n",
       " 'Date Acted Upon By the President': None,\n",
       " 'Republic Act No.': None}"
      ]
     },
     "execution_count": 55,
     "metadata": {},
     "output_type": "execute_result"
    }
   ],
   "source": [
    "our_data[6942]"
   ]
  },
  {
   "cell_type": "markdown",
   "id": "f0effab8",
   "metadata": {},
   "source": [
    "## PART 4: Abstract\n",
    "\n",
    "Define a function `get_abstract` that fetches the abstract of a particular bill. <br/>\n",
    "<b> NOTE </b>: This will not be implemented yet"
   ]
  },
  {
   "cell_type": "code",
   "execution_count": 16,
   "id": "b422decc",
   "metadata": {},
   "outputs": [],
   "source": [
    "# import requests\n",
    "\n",
    "# url = 'https://www.congress.gov.ph/legisdocs/fetch_history.php'\n",
    "# payload = {'rowid': '#HB00001-18'}\n",
    "\n",
    "# def get_abstract(url, payload):\n",
    "#     x = requests.post(url, data = payload)\n",
    "#     response_html = BeautifulSoup(x.text, 'html.parser')\n",
    "#     tr = response_html.find_all('tr')[2]\n",
    "    \n",
    "#     return tr.td.text[11:]"
   ]
  },
  {
   "cell_type": "code",
   "execution_count": 17,
   "id": "033bdf73",
   "metadata": {},
   "outputs": [],
   "source": [
    "#do not run this cell more than once. This will append 'Abstract' more than once.\n",
    "# features.append('Abstract')"
   ]
  },
  {
   "cell_type": "code",
   "execution_count": 18,
   "id": "a12172f4",
   "metadata": {},
   "outputs": [],
   "source": [
    "# for i in range(13972):\n",
    "#     payload['rowid'] = '#' + lis1[i].text + '-18'\n",
    "#     our_data[i]['Abstract'] = get_abstract(url, payload)\n",
    "#     print(i)"
   ]
  },
  {
   "cell_type": "markdown",
   "id": "9eacba60",
   "metadata": {},
   "source": [
    "Sample data after implementing the feature:"
   ]
  },
  {
   "cell_type": "code",
   "execution_count": 19,
   "id": "e8bed213",
   "metadata": {},
   "outputs": [],
   "source": [
    "# our_data[1]"
   ]
  },
  {
   "cell_type": "code",
   "execution_count": 20,
   "id": "e4ba7a7f",
   "metadata": {},
   "outputs": [],
   "source": [
    "# our_data[13971]"
   ]
  },
  {
   "cell_type": "markdown",
   "id": "e9f63730",
   "metadata": {},
   "source": [
    "## PART 5: Exporting the Data"
   ]
  },
  {
   "cell_type": "code",
   "execution_count": 56,
   "id": "4b34d708",
   "metadata": {},
   "outputs": [],
   "source": [
    "import csv\n",
    "\n",
    "csv_file = \"hor_bills.csv\"\n",
    "\n",
    "try:\n",
    "    with open(csv_file, 'w', encoding = 'utf-8', newline = '') as csvfile:\n",
    "        writer = csv.DictWriter(csvfile, fieldnames=['ID'] + features + ['Author Count'])\n",
    "        writer.writeheader()\n",
    "        for data in our_data:\n",
    "            writer.writerow(data)\n",
    "except IOError:\n",
    "    print(\"I/O Error!\")"
   ]
  }
 ],
 "metadata": {
  "interpreter": {
   "hash": "413c54d42d867d78bc5693b88112002b4b75f03abc9fed1665b973f73c05d110"
  },
  "kernelspec": {
   "display_name": "Python 3 (ipykernel)",
   "language": "python",
   "name": "python3"
  },
  "language_info": {
   "codemirror_mode": {
    "name": "ipython",
    "version": 3
   },
   "file_extension": ".py",
   "mimetype": "text/x-python",
   "name": "python",
   "nbconvert_exporter": "python",
   "pygments_lexer": "ipython3",
   "version": "3.10.4"
  }
 },
 "nbformat": 4,
 "nbformat_minor": 5
}
