{
 "cells": [
  {
   "cell_type": "markdown",
   "id": "cfe1551e",
   "metadata": {},
   "source": [
    "# Bills TF-IDF\n",
    "\n",
    "This Python notebook visualizes the TF-IDF analysis done to the bills in the 18th Congress of House of Representatives\n",
    "\n",
    "## Preliminaries\n",
    "\n",
    "Make sure that you have the following libraries installed on your machine before running the cells below to avoid any errors.\n",
    "- `pandas`\n",
    "- `nltk`\n",
    "- `tqdm`\n",
    "- `sklearn`\n",
    "\n",
    "All libraries were installed via `pip` using the command: `pip install <library-name>`. If you have `pip` installed in your machine, then you can easily install the following libraries using the command shown above."
   ]
  },
  {
   "cell_type": "markdown",
   "id": "7ed8f338",
   "metadata": {},
   "source": [
    "## PART 1: Upload the Dataframe\n",
    "\n",
    "Upload the CSV file as a pandas Data Frame and print some entries to verify that the file was uploaded and read correctly."
   ]
  },
  {
   "cell_type": "code",
   "execution_count": 1,
   "id": "a5a4efb0",
   "metadata": {},
   "outputs": [],
   "source": [
    "import pandas as pd\n",
    "\n",
    "df = pd.read_csv('18th_hor_bills_dataset_2.csv')"
   ]
  },
  {
   "cell_type": "code",
   "execution_count": 2,
   "id": "06466ef0",
   "metadata": {
    "scrolled": true
   },
   "outputs": [
    {
     "data": {
      "text/plain": [
       "ID                                                                                HB00002\n",
       "Full Title                              AN ACT CREATING THE DEPARTMENT OF OVERSEAS FIL...\n",
       "Author Count                                                                            3\n",
       "is_partylist                                                                            0\n",
       "party_1-pacman                                                                          0\n",
       "                                                              ...                        \n",
       "ref_defeat_covid-19_ad-hoc_committee                                                    0\n",
       "ref_the_whole_house                                                                     0\n",
       "ref_mindanao_affairs                                                                    0\n",
       "ref_west_philippine_sea                                                                 0\n",
       "approved                                                                                1\n",
       "Name: 1, Length: 279, dtype: object"
      ]
     },
     "execution_count": 2,
     "metadata": {},
     "output_type": "execute_result"
    }
   ],
   "source": [
    "df.iloc[1]"
   ]
  },
  {
   "cell_type": "markdown",
   "id": "034cf6cb",
   "metadata": {},
   "source": [
    "# PART 2: Load the Stop Words and Extract the Bill Title"
   ]
  },
  {
   "cell_type": "markdown",
   "id": "2067d009",
   "metadata": {},
   "source": [
    "A list of English stopwords can be loaded using the `nltk` library. We can download the `stopwords` first before loading it to a variable `stops`."
   ]
  },
  {
   "cell_type": "code",
   "execution_count": 3,
   "id": "4a232892",
   "metadata": {},
   "outputs": [
    {
     "name": "stderr",
     "output_type": "stream",
     "text": [
      "[nltk_data] Downloading package stopwords to\n",
      "[nltk_data]     C:\\Users\\james\\AppData\\Roaming\\nltk_data...\n",
      "[nltk_data]   Package stopwords is already up-to-date!\n"
     ]
    },
    {
     "data": {
      "text/plain": [
       "True"
      ]
     },
     "execution_count": 3,
     "metadata": {},
     "output_type": "execute_result"
    }
   ],
   "source": [
    "#Run this cell only if 'stopwords' has not been downloaded or if the succeeding cell throws an error\n",
    "import nltk\n",
    "nltk.download('stopwords')"
   ]
  },
  {
   "cell_type": "code",
   "execution_count": 4,
   "id": "3e76d652",
   "metadata": {
    "scrolled": true
   },
   "outputs": [
    {
     "name": "stdout",
     "output_type": "stream",
     "text": [
      "['i', 'me', 'my', 'myself', 'we', 'our', 'ours', 'ourselves', 'you', \"you're\", \"you've\", \"you'll\", \"you'd\", 'your', 'yours', 'yourself', 'yourselves', 'he', 'him', 'his', 'himself', 'she', \"she's\", 'her', 'hers', 'herself', 'it', \"it's\", 'its', 'itself', 'they', 'them', 'their', 'theirs', 'themselves', 'what', 'which', 'who', 'whom', 'this', 'that', \"that'll\", 'these', 'those', 'am', 'is', 'are', 'was', 'were', 'be', 'been', 'being', 'have', 'has', 'had', 'having', 'do', 'does', 'did', 'doing', 'a', 'an', 'the', 'and', 'but', 'if', 'or', 'because', 'as', 'until', 'while', 'of', 'at', 'by', 'for', 'with', 'about', 'against', 'between', 'into', 'through', 'during', 'before', 'after', 'above', 'below', 'to', 'from', 'up', 'down', 'in', 'out', 'on', 'off', 'over', 'under', 'again', 'further', 'then', 'once', 'here', 'there', 'when', 'where', 'why', 'how', 'all', 'any', 'both', 'each', 'few', 'more', 'most', 'other', 'some', 'such', 'no', 'nor', 'not', 'only', 'own', 'same', 'so', 'than', 'too', 'very', 's', 't', 'can', 'will', 'just', 'don', \"don't\", 'should', \"should've\", 'now', 'd', 'll', 'm', 'o', 're', 've', 'y', 'ain', 'aren', \"aren't\", 'couldn', \"couldn't\", 'didn', \"didn't\", 'doesn', \"doesn't\", 'hadn', \"hadn't\", 'hasn', \"hasn't\", 'haven', \"haven't\", 'isn', \"isn't\", 'ma', 'mightn', \"mightn't\", 'mustn', \"mustn't\", 'needn', \"needn't\", 'shan', \"shan't\", 'shouldn', \"shouldn't\", 'wasn', \"wasn't\", 'weren', \"weren't\", 'won', \"won't\", 'wouldn', \"wouldn't\"]\n"
     ]
    }
   ],
   "source": [
    "from nltk.corpus import stopwords\n",
    "stops = stopwords.words('english')\n",
    "print(stops)"
   ]
  },
  {
   "cell_type": "markdown",
   "id": "3f565e54",
   "metadata": {},
   "source": [
    "Extract the 'Full Title' of the bills first into a separate dataset to prepare it for TF-IDF analysis."
   ]
  },
  {
   "cell_type": "code",
   "execution_count": 5,
   "id": "3302a736",
   "metadata": {},
   "outputs": [
    {
     "data": {
      "text/plain": [
       "0    AN ACT INSTITUTIONALIZING A NATIONAL VALUES, E...\n",
       "1    AN ACT CREATING THE DEPARTMENT OF OVERSEAS FIL...\n",
       "2    AN ACT PROVIDING FOR A NATIONAL PROGRAM TO SUP...\n",
       "3    AN ACT CREATING THE EMERGENCY RESPONSE DEPARTM...\n",
       "4    AN ACT INSTITUTIONALIZING MICROFINANCE PROGRAM...\n",
       "Name: Full Title, dtype: object"
      ]
     },
     "execution_count": 5,
     "metadata": {},
     "output_type": "execute_result"
    }
   ],
   "source": [
    "df_full_title = df['Full Title'].copy(deep = True)\n",
    "df_full_title.head()"
   ]
  },
  {
   "cell_type": "markdown",
   "id": "24581192",
   "metadata": {},
   "source": [
    "As we prepare the list of bills for TF-IDF, we can now remove the stop words and punctuations from each of the full titles.\n",
    "\n",
    "Let us define a function `remove_punctuation` that removes the punctuations and retains the letters from each of the token, and test the function over a set of strings"
   ]
  },
  {
   "cell_type": "code",
   "execution_count": 6,
   "id": "4d95e108",
   "metadata": {},
   "outputs": [],
   "source": [
    "def remove_punctuation(token):\n",
    "    import string\n",
    "    return token.translate(str.maketrans('', '', string.punctuation))"
   ]
  },
  {
   "cell_type": "code",
   "execution_count": 7,
   "id": "b35bb9a4",
   "metadata": {},
   "outputs": [
    {
     "data": {
      "text/plain": [
       "'Shout out to my ex you are really quite the man you made my heart break and that made me who Im'"
      ]
     },
     "execution_count": 7,
     "metadata": {},
     "output_type": "execute_result"
    }
   ],
   "source": [
    "test_str_1 = 'Shout out to my ex, you are really quite the man; you made my heart break, and that made me who I\\'m'\n",
    "remove_punctuation(test_str_1)"
   ]
  },
  {
   "cell_type": "markdown",
   "id": "85eb77dc",
   "metadata": {},
   "source": [
    "Let us define a function `remove_stop_words` that does the following:\n",
    "<ul>\n",
    "    <li> Split the bill into a list of tokens or words </li>\n",
    "    <li> If a stop word, as indicated in variable a defined above, is included, remove them from the list of tokens </li>\n",
    "    <li> Combine the remaining words into a string separated by spaces </li>\n",
    "</ul>\n",
    "We can then test the newly created function to some test entries, before finally iterating it over."
   ]
  },
  {
   "cell_type": "code",
   "execution_count": 8,
   "id": "4aae8d4f",
   "metadata": {},
   "outputs": [],
   "source": [
    "def remove_stop_words(bill_string, stopwords):\n",
    "    lis = bill_string.split() #split the string according to spaces\n",
    "    to_return = [] #define a new list of words\n",
    "    \n",
    "    for i in lis:\n",
    "        if i.lower() not in stopwords:\n",
    "            to_return.append(i)\n",
    "    \n",
    "    return remove_punctuation(\" \".join(to_return))"
   ]
  },
  {
   "cell_type": "code",
   "execution_count": 9,
   "id": "65a0f4c5",
   "metadata": {
    "scrolled": true
   },
   "outputs": [
    {
     "data": {
      "text/plain": [
       "'ACT CREATING DEPARTMENT OVERSEAS FILIPINO WORKERS OFW FOREIGN EMPLOYMENT DEFINING POWERS FUNCTIONS APPROPRIATING FUNDS THEREFOR RATIONALIZING ORGANIZATION FUNCTIONS GOVERNMENT AGENCIES RELATED MIGRATION PURPOSES'"
      ]
     },
     "execution_count": 9,
     "metadata": {},
     "output_type": "execute_result"
    }
   ],
   "source": [
    "remove_stop_words(df_full_title.iloc[1], stops)"
   ]
  },
  {
   "cell_type": "code",
   "execution_count": 10,
   "id": "8c34557e",
   "metadata": {},
   "outputs": [
    {
     "data": {
      "text/plain": [
       "'ACT PROVIDING COMPREHENSIVE CIVIL REGISTRATION SYSTEM'"
      ]
     },
     "execution_count": 10,
     "metadata": {},
     "output_type": "execute_result"
    }
   ],
   "source": [
    "remove_stop_words(df_full_title.iloc[103], stops)"
   ]
  },
  {
   "cell_type": "markdown",
   "id": "36cffb20",
   "metadata": {},
   "source": [
    "Upon running the function initially over all bills, the function threw an error over at entry 9278, which corresponds to 'HB09290'. The full title of this house bill is an empty string. Upon cross-checking the data with the website, it was found out that the website was not able to include the full title of the actual bill. Fortunately, the full title of this bill can be accessed using the link: https://hrep-website.s3.ap-southeast-1.amazonaws.com/legisdocs/basic_18/HB09290.pdf\n",
    "\n",
    "The name of the bill will then be hardcoded to its corresponding entry, 9278, before running the function over all bills."
   ]
  },
  {
   "cell_type": "code",
   "execution_count": 11,
   "id": "04027219",
   "metadata": {},
   "outputs": [
    {
     "data": {
      "text/plain": [
       "'AN ACT TO IMPROVE ACCESS TO PRESCHOOL, PRIMARY, AND SECONDARY EDUCATION OF HOMELESS CHILDREN AND YOUTH'"
      ]
     },
     "execution_count": 11,
     "metadata": {},
     "output_type": "execute_result"
    }
   ],
   "source": [
    "df_full_title.iloc[9278] = \"AN ACT TO IMPROVE ACCESS TO PRESCHOOL, PRIMARY, AND SECONDARY EDUCATION OF HOMELESS CHILDREN AND YOUTH\"\n",
    "df_full_title.iloc[9278]"
   ]
  },
  {
   "cell_type": "markdown",
   "id": "9101a5df",
   "metadata": {},
   "source": [
    "The function will be applied to all bills, and test the new data by sampling entries."
   ]
  },
  {
   "cell_type": "code",
   "execution_count": 12,
   "id": "78486726",
   "metadata": {},
   "outputs": [
    {
     "data": {
      "application/vnd.jupyter.widget-view+json": {
       "model_id": "3c5c290fc426471c807d53fff0926671",
       "version_major": 2,
       "version_minor": 0
      },
      "text/plain": [
       "  0%|          | 0/10840 [00:00<?, ?it/s]"
      ]
     },
     "metadata": {},
     "output_type": "display_data"
    }
   ],
   "source": [
    "from tqdm.notebook import tqdm\n",
    "\n",
    "for i in tqdm(range(len(df_full_title))):\n",
    "    df_full_title.iloc[i] = remove_stop_words(df_full_title.iloc[i], stops)"
   ]
  },
  {
   "cell_type": "code",
   "execution_count": 13,
   "id": "23a80490",
   "metadata": {},
   "outputs": [
    {
     "data": {
      "text/plain": [
       "'ACT IMPROVE ACCESS PRESCHOOL PRIMARY SECONDARY EDUCATION HOMELESS CHILDREN YOUTH'"
      ]
     },
     "execution_count": 13,
     "metadata": {},
     "output_type": "execute_result"
    }
   ],
   "source": [
    "df_full_title.iloc[9278]"
   ]
  },
  {
   "cell_type": "code",
   "execution_count": 14,
   "id": "50ed187c",
   "metadata": {},
   "outputs": [
    {
     "data": {
      "text/plain": [
       "'ACT ESTABLISHING BENHAM RISE RESEARCH DEVELOPMENT INSTITUTE PROVIDING FUNDS THEREFOR PURPOSES'"
      ]
     },
     "execution_count": 14,
     "metadata": {},
     "output_type": "execute_result"
    }
   ],
   "source": [
    "df_full_title.iloc[34]"
   ]
  },
  {
   "cell_type": "markdown",
   "id": "9378131a",
   "metadata": {},
   "source": [
    "# PART 3: Extract the Bag of Words\n",
    "\n",
    "A <i>bag of words</i> is then defined as a set of unique words generated from the list of full titles. This bag of words can then be extracted according to a specified number of `n`-grams. \n",
    "\n",
    "Let us define a dictionary of `n`-grams that can be initialized over a range. These can be tweaked whenever we want to adjust the range of `n`-grams that we want to extract from the data."
   ]
  },
  {
   "cell_type": "code",
   "execution_count": 15,
   "id": "3a2102e2",
   "metadata": {},
   "outputs": [],
   "source": [
    "#you can tweak lower_limit and upper_limit depending on the number of n-grams that you want to be extracted\n",
    "lower_limit = 2\n",
    "upper_limit = 4\n",
    "\n",
    "bag_of_words_per_n_gram = {x: [] for x in range(lower_limit, upper_limit + 1)}"
   ]
  },
  {
   "cell_type": "markdown",
   "id": "f026ebcc",
   "metadata": {},
   "source": [
    "Let us define a function `extract_n_grams` that extracts `n`-grams from a particular string, and then appending it to the variable `bag_of_words_per_n_gram`, which is a dictionary of `n`-grams, depending on the set lower limit and upper limit (given by `lower_limit` and `upper_limit` variables, respectively)."
   ]
  },
  {
   "cell_type": "code",
   "execution_count": 16,
   "id": "919c8fb3",
   "metadata": {},
   "outputs": [],
   "source": [
    "from nltk.util import ngrams\n",
    "\n",
    "def extract_n_grams(title, bag, lower, upper):\n",
    "    '''a function that extracts n-grams from the lower to the upper limit.\n",
    "    Parameters of the function include:\n",
    "    =>title - input string to be extracted\n",
    "    =>bag - the bag of words\n",
    "    =>lower - lower limit\n",
    "    =>upper - upper limit'''\n",
    "    \n",
    "    spl = title.split()\n",
    "    for i in range(lower, upper+1):\n",
    "        temp = set(ngrams(spl, i))\n",
    "        bag[i] = list(set(bag[i]).union(temp))\n",
    "\n",
    "    return"
   ]
  },
  {
   "cell_type": "markdown",
   "id": "8778e1f1",
   "metadata": {},
   "source": [
    "We now iterate the function over all bills"
   ]
  },
  {
   "cell_type": "code",
   "execution_count": 17,
   "id": "4b14e030",
   "metadata": {},
   "outputs": [
    {
     "data": {
      "text/plain": [
       "'\\nfor i in tqdm(range(len(df_full_title))):\\n    extract_n_grams(df_full_title.iloc[i], bag_of_words_per_n_gram, lower_limit, upper_limit)\\n'"
      ]
     },
     "execution_count": 17,
     "metadata": {},
     "output_type": "execute_result"
    }
   ],
   "source": [
    "'''\n",
    "for i in tqdm(range(len(df_full_title))):\n",
    "    extract_n_grams(df_full_title.iloc[i], bag_of_words_per_n_gram, lower_limit, upper_limit)\n",
    "'''"
   ]
  },
  {
   "cell_type": "markdown",
   "id": "28f76fab",
   "metadata": {},
   "source": [
    "To check how many unique `n`-grams identified in the range, you may run the cell below:"
   ]
  },
  {
   "cell_type": "code",
   "execution_count": 18,
   "id": "caf5c0d8",
   "metadata": {},
   "outputs": [
    {
     "data": {
      "text/plain": [
       "'for i in range(lower_limit, upper_limit + 1):\\n    bag_of_words_per_n_gram[i] = list(map(lambda x: \" \".join(x), bag_of_words_per_n_gram[i]))\\n    print(\"There are {} unique {}-grams identified\".format(len(bag_of_words_per_n_gram[i]), i))'"
      ]
     },
     "execution_count": 18,
     "metadata": {},
     "output_type": "execute_result"
    }
   ],
   "source": [
    "'''for i in range(lower_limit, upper_limit + 1):\n",
    "    bag_of_words_per_n_gram[i] = list(map(lambda x: \" \".join(x), bag_of_words_per_n_gram[i]))\n",
    "    print(\"There are {} unique {}-grams identified\".format(len(bag_of_words_per_n_gram[i]), i))'''"
   ]
  },
  {
   "cell_type": "markdown",
   "id": "2487ab4b",
   "metadata": {},
   "source": [
    "# PART 4: Perform TF-IDF\n",
    "\n",
    "For this portion, we will be using the `TfidfVectorizer` function from `sklearn.feature_extraction.text`. This function needs the following input parameters:\n",
    "- `vocabulary`: The bag of words extracted in the previous part, given by `bag_of_words_per_n_gram`\n",
    "- `stop-words`\n",
    "- `ngram_range`: The range of n-grams, given by the `lower_limit` and `upper_limit`\n",
    "\n",
    "Before calling `TfidfVectorizer`, we need to combine the dictionary `bag_of_words_per_n_gram` into a single list to feed into the function"
   ]
  },
  {
   "cell_type": "code",
   "execution_count": 19,
   "id": "69fe46f4",
   "metadata": {},
   "outputs": [
    {
     "data": {
      "text/plain": [
       "'\\nvocabs = []\\n\\nfor i in range(lower_limit, upper_limit+1):\\n    vocabs += list(set(bag_of_words_per_n_gram[i]))\\n\\nvocabs = [i.lower() for i in vocabs]\\n\\n#transform it into a set to ensure that there are no duplicates\\nvocabs = list(set(vocabs))\\n\\nprint(len(vocabs))\\n'"
      ]
     },
     "execution_count": 19,
     "metadata": {},
     "output_type": "execute_result"
    }
   ],
   "source": [
    "'''\n",
    "vocabs = []\n",
    "\n",
    "for i in range(lower_limit, upper_limit+1):\n",
    "    vocabs += list(set(bag_of_words_per_n_gram[i]))\n",
    "\n",
    "vocabs = [i.lower() for i in vocabs]\n",
    "\n",
    "#transform it into a set to ensure that there are no duplicates\n",
    "vocabs = list(set(vocabs))\n",
    "\n",
    "print(len(vocabs))\n",
    "'''"
   ]
  },
  {
   "cell_type": "markdown",
   "id": "1344113c",
   "metadata": {},
   "source": [
    "Perform the actual TF-IDF"
   ]
  },
  {
   "cell_type": "code",
   "execution_count": 20,
   "id": "e3e85079",
   "metadata": {},
   "outputs": [],
   "source": [
    "from sklearn.feature_extraction.text import TfidfVectorizer\n",
    "\n",
    "tfidf = TfidfVectorizer(max_features=3000, stop_words = 'english', ngram_range=(lower_limit, upper_limit))\n",
    "tfs = tfidf.fit_transform(df_full_title)"
   ]
  },
  {
   "cell_type": "code",
   "execution_count": 21,
   "id": "c964aa89",
   "metadata": {},
   "outputs": [],
   "source": [
    "feature_names = tfidf.get_feature_names_out()\n",
    "corpus_index = [n for n in range(len(df_full_title))]\n",
    "rows, cols = tfs.nonzero()"
   ]
  },
  {
   "cell_type": "markdown",
   "id": "199dfce6",
   "metadata": {},
   "source": [
    "# PART 5: Preparing the Results for Modelling\n",
    "\n",
    "In order to have a better understanding of the TF-IDF analysis done, we can prepare the results for modelling. The following code cells run the following:\n",
    "- Convert the variable `tfs`, which contains the actual results of the TF-IDF analysis, into a pandas DataFrame. `tfs.toarray()` is the data of the output in array form while its columns can be obtained using the `get_feature_names` method\n",
    "- Concatenate the newly created dataframe with `df_full_title` to get an association with the full title, along with the results of the TF-IDF. The new created will now have the following features/columns: [`full_title`, `bag_of_words_0`, `bag_of_words_1`,...]"
   ]
  },
  {
   "cell_type": "code",
   "execution_count": 22,
   "id": "d534ebc1",
   "metadata": {
    "scrolled": true
   },
   "outputs": [
    {
     "data": {
      "text/html": [
       "<div>\n",
       "<style scoped>\n",
       "    .dataframe tbody tr th:only-of-type {\n",
       "        vertical-align: middle;\n",
       "    }\n",
       "\n",
       "    .dataframe tbody tr th {\n",
       "        vertical-align: top;\n",
       "    }\n",
       "\n",
       "    .dataframe thead th {\n",
       "        text-align: right;\n",
       "    }\n",
       "</style>\n",
       "<table border=\"1\" class=\"dataframe\">\n",
       "  <thead>\n",
       "    <tr style=\"text-align: right;\">\n",
       "      <th></th>\n",
       "      <th>10 republic</th>\n",
       "      <th>10 republic act</th>\n",
       "      <th>100 beds</th>\n",
       "      <th>1000 beds</th>\n",
       "      <th>10632 republic</th>\n",
       "      <th>10632 republic act</th>\n",
       "      <th>10632 republic act 10656</th>\n",
       "      <th>10656 republic</th>\n",
       "      <th>10656 republic act</th>\n",
       "      <th>10656 republic act 10923</th>\n",
       "      <th>...</th>\n",
       "      <th>zamboanga sibugay</th>\n",
       "      <th>zone appropriating</th>\n",
       "      <th>zone appropriating funds</th>\n",
       "      <th>zone appropriating funds therefor</th>\n",
       "      <th>zone authority</th>\n",
       "      <th>zone authority appropriating</th>\n",
       "      <th>zone authority appropriating funds</th>\n",
       "      <th>zone freeport</th>\n",
       "      <th>zone providing</th>\n",
       "      <th>ꞌan act</th>\n",
       "    </tr>\n",
       "  </thead>\n",
       "  <tbody>\n",
       "    <tr>\n",
       "      <th>0</th>\n",
       "      <td>0.0</td>\n",
       "      <td>0.0</td>\n",
       "      <td>0.0</td>\n",
       "      <td>0.0</td>\n",
       "      <td>0.0</td>\n",
       "      <td>0.0</td>\n",
       "      <td>0.0</td>\n",
       "      <td>0.0</td>\n",
       "      <td>0.0</td>\n",
       "      <td>0.0</td>\n",
       "      <td>...</td>\n",
       "      <td>0.0</td>\n",
       "      <td>0.0</td>\n",
       "      <td>0.0</td>\n",
       "      <td>0.0</td>\n",
       "      <td>0.0</td>\n",
       "      <td>0.0</td>\n",
       "      <td>0.0</td>\n",
       "      <td>0.0</td>\n",
       "      <td>0.0</td>\n",
       "      <td>0.0</td>\n",
       "    </tr>\n",
       "    <tr>\n",
       "      <th>1</th>\n",
       "      <td>0.0</td>\n",
       "      <td>0.0</td>\n",
       "      <td>0.0</td>\n",
       "      <td>0.0</td>\n",
       "      <td>0.0</td>\n",
       "      <td>0.0</td>\n",
       "      <td>0.0</td>\n",
       "      <td>0.0</td>\n",
       "      <td>0.0</td>\n",
       "      <td>0.0</td>\n",
       "      <td>...</td>\n",
       "      <td>0.0</td>\n",
       "      <td>0.0</td>\n",
       "      <td>0.0</td>\n",
       "      <td>0.0</td>\n",
       "      <td>0.0</td>\n",
       "      <td>0.0</td>\n",
       "      <td>0.0</td>\n",
       "      <td>0.0</td>\n",
       "      <td>0.0</td>\n",
       "      <td>0.0</td>\n",
       "    </tr>\n",
       "    <tr>\n",
       "      <th>2</th>\n",
       "      <td>0.0</td>\n",
       "      <td>0.0</td>\n",
       "      <td>0.0</td>\n",
       "      <td>0.0</td>\n",
       "      <td>0.0</td>\n",
       "      <td>0.0</td>\n",
       "      <td>0.0</td>\n",
       "      <td>0.0</td>\n",
       "      <td>0.0</td>\n",
       "      <td>0.0</td>\n",
       "      <td>...</td>\n",
       "      <td>0.0</td>\n",
       "      <td>0.0</td>\n",
       "      <td>0.0</td>\n",
       "      <td>0.0</td>\n",
       "      <td>0.0</td>\n",
       "      <td>0.0</td>\n",
       "      <td>0.0</td>\n",
       "      <td>0.0</td>\n",
       "      <td>0.0</td>\n",
       "      <td>0.0</td>\n",
       "    </tr>\n",
       "    <tr>\n",
       "      <th>3</th>\n",
       "      <td>0.0</td>\n",
       "      <td>0.0</td>\n",
       "      <td>0.0</td>\n",
       "      <td>0.0</td>\n",
       "      <td>0.0</td>\n",
       "      <td>0.0</td>\n",
       "      <td>0.0</td>\n",
       "      <td>0.0</td>\n",
       "      <td>0.0</td>\n",
       "      <td>0.0</td>\n",
       "      <td>...</td>\n",
       "      <td>0.0</td>\n",
       "      <td>0.0</td>\n",
       "      <td>0.0</td>\n",
       "      <td>0.0</td>\n",
       "      <td>0.0</td>\n",
       "      <td>0.0</td>\n",
       "      <td>0.0</td>\n",
       "      <td>0.0</td>\n",
       "      <td>0.0</td>\n",
       "      <td>0.0</td>\n",
       "    </tr>\n",
       "    <tr>\n",
       "      <th>4</th>\n",
       "      <td>0.0</td>\n",
       "      <td>0.0</td>\n",
       "      <td>0.0</td>\n",
       "      <td>0.0</td>\n",
       "      <td>0.0</td>\n",
       "      <td>0.0</td>\n",
       "      <td>0.0</td>\n",
       "      <td>0.0</td>\n",
       "      <td>0.0</td>\n",
       "      <td>0.0</td>\n",
       "      <td>...</td>\n",
       "      <td>0.0</td>\n",
       "      <td>0.0</td>\n",
       "      <td>0.0</td>\n",
       "      <td>0.0</td>\n",
       "      <td>0.0</td>\n",
       "      <td>0.0</td>\n",
       "      <td>0.0</td>\n",
       "      <td>0.0</td>\n",
       "      <td>0.0</td>\n",
       "      <td>0.0</td>\n",
       "    </tr>\n",
       "  </tbody>\n",
       "</table>\n",
       "<p>5 rows × 3000 columns</p>\n",
       "</div>"
      ],
      "text/plain": [
       "   10 republic  10 republic act  100 beds  1000 beds  10632 republic  \\\n",
       "0          0.0              0.0       0.0        0.0             0.0   \n",
       "1          0.0              0.0       0.0        0.0             0.0   \n",
       "2          0.0              0.0       0.0        0.0             0.0   \n",
       "3          0.0              0.0       0.0        0.0             0.0   \n",
       "4          0.0              0.0       0.0        0.0             0.0   \n",
       "\n",
       "   10632 republic act  10632 republic act 10656  10656 republic  \\\n",
       "0                 0.0                       0.0             0.0   \n",
       "1                 0.0                       0.0             0.0   \n",
       "2                 0.0                       0.0             0.0   \n",
       "3                 0.0                       0.0             0.0   \n",
       "4                 0.0                       0.0             0.0   \n",
       "\n",
       "   10656 republic act  10656 republic act 10923  ...  zamboanga sibugay  \\\n",
       "0                 0.0                       0.0  ...                0.0   \n",
       "1                 0.0                       0.0  ...                0.0   \n",
       "2                 0.0                       0.0  ...                0.0   \n",
       "3                 0.0                       0.0  ...                0.0   \n",
       "4                 0.0                       0.0  ...                0.0   \n",
       "\n",
       "   zone appropriating  zone appropriating funds  \\\n",
       "0                 0.0                       0.0   \n",
       "1                 0.0                       0.0   \n",
       "2                 0.0                       0.0   \n",
       "3                 0.0                       0.0   \n",
       "4                 0.0                       0.0   \n",
       "\n",
       "   zone appropriating funds therefor  zone authority  \\\n",
       "0                                0.0             0.0   \n",
       "1                                0.0             0.0   \n",
       "2                                0.0             0.0   \n",
       "3                                0.0             0.0   \n",
       "4                                0.0             0.0   \n",
       "\n",
       "   zone authority appropriating  zone authority appropriating funds  \\\n",
       "0                           0.0                                 0.0   \n",
       "1                           0.0                                 0.0   \n",
       "2                           0.0                                 0.0   \n",
       "3                           0.0                                 0.0   \n",
       "4                           0.0                                 0.0   \n",
       "\n",
       "   zone freeport  zone providing  ꞌan act  \n",
       "0            0.0             0.0      0.0  \n",
       "1            0.0             0.0      0.0  \n",
       "2            0.0             0.0      0.0  \n",
       "3            0.0             0.0      0.0  \n",
       "4            0.0             0.0      0.0  \n",
       "\n",
       "[5 rows x 3000 columns]"
      ]
     },
     "execution_count": 22,
     "metadata": {},
     "output_type": "execute_result"
    }
   ],
   "source": [
    "df1 = pd.DataFrame(tfs.toarray(), columns = feature_names)\n",
    "\n",
    "df1.head()"
   ]
  },
  {
   "cell_type": "markdown",
   "id": "b6772422",
   "metadata": {},
   "source": [
    "1.5 mins runtime"
   ]
  },
  {
   "cell_type": "code",
   "execution_count": 23,
   "id": "109ed0ef",
   "metadata": {},
   "outputs": [],
   "source": [
    "final = pd.concat([df, df1], axis=1)"
   ]
  },
  {
   "cell_type": "code",
   "execution_count": 24,
   "id": "9d29cfee",
   "metadata": {},
   "outputs": [],
   "source": [
    "#do not run this cell yet! We have to find ways to export this without reaching a 1 GB file size\n",
    "# final.to_csv('18th_hor_bills_final.csv', encoding='utf-8', chunksize=250000)"
   ]
  },
  {
   "cell_type": "markdown",
   "id": "a077c802",
   "metadata": {},
   "source": [
    "# PART 6: The Actual Modelling Part"
   ]
  },
  {
   "cell_type": "code",
   "execution_count": 25,
   "id": "1c22d5d9",
   "metadata": {},
   "outputs": [
    {
     "data": {
      "text/plain": [
       "0    7254\n",
       "1    3586\n",
       "Name: approved, dtype: int64"
      ]
     },
     "execution_count": 25,
     "metadata": {},
     "output_type": "execute_result"
    }
   ],
   "source": [
    "final['approved'].value_counts()"
   ]
  },
  {
   "cell_type": "code",
   "execution_count": 26,
   "id": "2737167b",
   "metadata": {},
   "outputs": [],
   "source": [
    "final = final.drop(['ID', 'Full Title'], axis=1)"
   ]
  },
  {
   "cell_type": "code",
   "execution_count": 27,
   "id": "06d2d595",
   "metadata": {},
   "outputs": [],
   "source": [
    "from sklearn.model_selection import train_test_split\n",
    "from sklearn.utils import shuffle\n",
    "small = shuffle(final)\n",
    "train_set, test_set, train_stat, test_stat = train_test_split(small.drop('approved', axis=1), small['approved'], test_size=1/5)"
   ]
  },
  {
   "cell_type": "code",
   "execution_count": 28,
   "id": "af21d55f",
   "metadata": {},
   "outputs": [],
   "source": [
    "from sklearn.preprocessing import StandardScaler\n",
    "scaler = StandardScaler()\n",
    "\n",
    "scaler.fit(train_set)\n",
    "train_set = scaler.transform(train_set)\n",
    "test_set = scaler.transform(test_set)"
   ]
  },
  {
   "cell_type": "code",
   "execution_count": 29,
   "id": "1d6cd56c",
   "metadata": {},
   "outputs": [
    {
     "data": {
      "text/html": [
       "<style>#sk-container-id-1 {color: black;background-color: white;}#sk-container-id-1 pre{padding: 0;}#sk-container-id-1 div.sk-toggleable {background-color: white;}#sk-container-id-1 label.sk-toggleable__label {cursor: pointer;display: block;width: 100%;margin-bottom: 0;padding: 0.3em;box-sizing: border-box;text-align: center;}#sk-container-id-1 label.sk-toggleable__label-arrow:before {content: \"▸\";float: left;margin-right: 0.25em;color: #696969;}#sk-container-id-1 label.sk-toggleable__label-arrow:hover:before {color: black;}#sk-container-id-1 div.sk-estimator:hover label.sk-toggleable__label-arrow:before {color: black;}#sk-container-id-1 div.sk-toggleable__content {max-height: 0;max-width: 0;overflow: hidden;text-align: left;background-color: #f0f8ff;}#sk-container-id-1 div.sk-toggleable__content pre {margin: 0.2em;color: black;border-radius: 0.25em;background-color: #f0f8ff;}#sk-container-id-1 input.sk-toggleable__control:checked~div.sk-toggleable__content {max-height: 200px;max-width: 100%;overflow: auto;}#sk-container-id-1 input.sk-toggleable__control:checked~label.sk-toggleable__label-arrow:before {content: \"▾\";}#sk-container-id-1 div.sk-estimator input.sk-toggleable__control:checked~label.sk-toggleable__label {background-color: #d4ebff;}#sk-container-id-1 div.sk-label input.sk-toggleable__control:checked~label.sk-toggleable__label {background-color: #d4ebff;}#sk-container-id-1 input.sk-hidden--visually {border: 0;clip: rect(1px 1px 1px 1px);clip: rect(1px, 1px, 1px, 1px);height: 1px;margin: -1px;overflow: hidden;padding: 0;position: absolute;width: 1px;}#sk-container-id-1 div.sk-estimator {font-family: monospace;background-color: #f0f8ff;border: 1px dotted black;border-radius: 0.25em;box-sizing: border-box;margin-bottom: 0.5em;}#sk-container-id-1 div.sk-estimator:hover {background-color: #d4ebff;}#sk-container-id-1 div.sk-parallel-item::after {content: \"\";width: 100%;border-bottom: 1px solid gray;flex-grow: 1;}#sk-container-id-1 div.sk-label:hover label.sk-toggleable__label {background-color: #d4ebff;}#sk-container-id-1 div.sk-serial::before {content: \"\";position: absolute;border-left: 1px solid gray;box-sizing: border-box;top: 0;bottom: 0;left: 50%;z-index: 0;}#sk-container-id-1 div.sk-serial {display: flex;flex-direction: column;align-items: center;background-color: white;padding-right: 0.2em;padding-left: 0.2em;position: relative;}#sk-container-id-1 div.sk-item {position: relative;z-index: 1;}#sk-container-id-1 div.sk-parallel {display: flex;align-items: stretch;justify-content: center;background-color: white;position: relative;}#sk-container-id-1 div.sk-item::before, #sk-container-id-1 div.sk-parallel-item::before {content: \"\";position: absolute;border-left: 1px solid gray;box-sizing: border-box;top: 0;bottom: 0;left: 50%;z-index: -1;}#sk-container-id-1 div.sk-parallel-item {display: flex;flex-direction: column;z-index: 1;position: relative;background-color: white;}#sk-container-id-1 div.sk-parallel-item:first-child::after {align-self: flex-end;width: 50%;}#sk-container-id-1 div.sk-parallel-item:last-child::after {align-self: flex-start;width: 50%;}#sk-container-id-1 div.sk-parallel-item:only-child::after {width: 0;}#sk-container-id-1 div.sk-dashed-wrapped {border: 1px dashed gray;margin: 0 0.4em 0.5em 0.4em;box-sizing: border-box;padding-bottom: 0.4em;background-color: white;}#sk-container-id-1 div.sk-label label {font-family: monospace;font-weight: bold;display: inline-block;line-height: 1.2em;}#sk-container-id-1 div.sk-label-container {text-align: center;}#sk-container-id-1 div.sk-container {/* jupyter's `normalize.less` sets `[hidden] { display: none; }` but bootstrap.min.css set `[hidden] { display: none !important; }` so we also need the `!important` here to be able to override the default hidden behavior on the sphinx rendered scikit-learn.org. See: https://github.com/scikit-learn/scikit-learn/issues/21755 */display: inline-block !important;position: relative;}#sk-container-id-1 div.sk-text-repr-fallback {display: none;}</style><div id=\"sk-container-id-1\" class=\"sk-top-container\"><div class=\"sk-text-repr-fallback\"><pre>PCA(n_components=0.95)</pre><b>In a Jupyter environment, please rerun this cell to show the HTML representation or trust the notebook. <br />On GitHub, the HTML representation is unable to render, please try loading this page with nbviewer.org.</b></div><div class=\"sk-container\" hidden><div class=\"sk-item\"><div class=\"sk-estimator sk-toggleable\"><input class=\"sk-toggleable__control sk-hidden--visually\" id=\"sk-estimator-id-1\" type=\"checkbox\" checked><label for=\"sk-estimator-id-1\" class=\"sk-toggleable__label sk-toggleable__label-arrow\">PCA</label><div class=\"sk-toggleable__content\"><pre>PCA(n_components=0.95)</pre></div></div></div></div></div>"
      ],
      "text/plain": [
       "PCA(n_components=0.95)"
      ]
     },
     "execution_count": 29,
     "metadata": {},
     "output_type": "execute_result"
    }
   ],
   "source": [
    "from sklearn.decomposition import PCA\n",
    "# Make an instance of the Model\n",
    "pca = PCA(.95)\n",
    "pca.fit(train_set)"
   ]
  },
  {
   "cell_type": "code",
   "execution_count": 30,
   "id": "30639025",
   "metadata": {},
   "outputs": [
    {
     "data": {
      "text/plain": [
       "1142"
      ]
     },
     "execution_count": 30,
     "metadata": {},
     "output_type": "execute_result"
    }
   ],
   "source": [
    "pca.n_components_"
   ]
  },
  {
   "cell_type": "code",
   "execution_count": 31,
   "id": "6376c936",
   "metadata": {},
   "outputs": [],
   "source": [
    "train_set = pca.transform(train_set)\n",
    "test_set = pca.transform(test_set)"
   ]
  },
  {
   "cell_type": "code",
   "execution_count": 32,
   "id": "c3d01c67",
   "metadata": {},
   "outputs": [
    {
     "data": {
      "text/html": [
       "<style>#sk-container-id-2 {color: black;background-color: white;}#sk-container-id-2 pre{padding: 0;}#sk-container-id-2 div.sk-toggleable {background-color: white;}#sk-container-id-2 label.sk-toggleable__label {cursor: pointer;display: block;width: 100%;margin-bottom: 0;padding: 0.3em;box-sizing: border-box;text-align: center;}#sk-container-id-2 label.sk-toggleable__label-arrow:before {content: \"▸\";float: left;margin-right: 0.25em;color: #696969;}#sk-container-id-2 label.sk-toggleable__label-arrow:hover:before {color: black;}#sk-container-id-2 div.sk-estimator:hover label.sk-toggleable__label-arrow:before {color: black;}#sk-container-id-2 div.sk-toggleable__content {max-height: 0;max-width: 0;overflow: hidden;text-align: left;background-color: #f0f8ff;}#sk-container-id-2 div.sk-toggleable__content pre {margin: 0.2em;color: black;border-radius: 0.25em;background-color: #f0f8ff;}#sk-container-id-2 input.sk-toggleable__control:checked~div.sk-toggleable__content {max-height: 200px;max-width: 100%;overflow: auto;}#sk-container-id-2 input.sk-toggleable__control:checked~label.sk-toggleable__label-arrow:before {content: \"▾\";}#sk-container-id-2 div.sk-estimator input.sk-toggleable__control:checked~label.sk-toggleable__label {background-color: #d4ebff;}#sk-container-id-2 div.sk-label input.sk-toggleable__control:checked~label.sk-toggleable__label {background-color: #d4ebff;}#sk-container-id-2 input.sk-hidden--visually {border: 0;clip: rect(1px 1px 1px 1px);clip: rect(1px, 1px, 1px, 1px);height: 1px;margin: -1px;overflow: hidden;padding: 0;position: absolute;width: 1px;}#sk-container-id-2 div.sk-estimator {font-family: monospace;background-color: #f0f8ff;border: 1px dotted black;border-radius: 0.25em;box-sizing: border-box;margin-bottom: 0.5em;}#sk-container-id-2 div.sk-estimator:hover {background-color: #d4ebff;}#sk-container-id-2 div.sk-parallel-item::after {content: \"\";width: 100%;border-bottom: 1px solid gray;flex-grow: 1;}#sk-container-id-2 div.sk-label:hover label.sk-toggleable__label {background-color: #d4ebff;}#sk-container-id-2 div.sk-serial::before {content: \"\";position: absolute;border-left: 1px solid gray;box-sizing: border-box;top: 0;bottom: 0;left: 50%;z-index: 0;}#sk-container-id-2 div.sk-serial {display: flex;flex-direction: column;align-items: center;background-color: white;padding-right: 0.2em;padding-left: 0.2em;position: relative;}#sk-container-id-2 div.sk-item {position: relative;z-index: 1;}#sk-container-id-2 div.sk-parallel {display: flex;align-items: stretch;justify-content: center;background-color: white;position: relative;}#sk-container-id-2 div.sk-item::before, #sk-container-id-2 div.sk-parallel-item::before {content: \"\";position: absolute;border-left: 1px solid gray;box-sizing: border-box;top: 0;bottom: 0;left: 50%;z-index: -1;}#sk-container-id-2 div.sk-parallel-item {display: flex;flex-direction: column;z-index: 1;position: relative;background-color: white;}#sk-container-id-2 div.sk-parallel-item:first-child::after {align-self: flex-end;width: 50%;}#sk-container-id-2 div.sk-parallel-item:last-child::after {align-self: flex-start;width: 50%;}#sk-container-id-2 div.sk-parallel-item:only-child::after {width: 0;}#sk-container-id-2 div.sk-dashed-wrapped {border: 1px dashed gray;margin: 0 0.4em 0.5em 0.4em;box-sizing: border-box;padding-bottom: 0.4em;background-color: white;}#sk-container-id-2 div.sk-label label {font-family: monospace;font-weight: bold;display: inline-block;line-height: 1.2em;}#sk-container-id-2 div.sk-label-container {text-align: center;}#sk-container-id-2 div.sk-container {/* jupyter's `normalize.less` sets `[hidden] { display: none; }` but bootstrap.min.css set `[hidden] { display: none !important; }` so we also need the `!important` here to be able to override the default hidden behavior on the sphinx rendered scikit-learn.org. See: https://github.com/scikit-learn/scikit-learn/issues/21755 */display: inline-block !important;position: relative;}#sk-container-id-2 div.sk-text-repr-fallback {display: none;}</style><div id=\"sk-container-id-2\" class=\"sk-top-container\"><div class=\"sk-text-repr-fallback\"><pre>LogisticRegressionCV(cv=5, max_iter=5000, n_jobs=4, solver=&#x27;saga&#x27;)</pre><b>In a Jupyter environment, please rerun this cell to show the HTML representation or trust the notebook. <br />On GitHub, the HTML representation is unable to render, please try loading this page with nbviewer.org.</b></div><div class=\"sk-container\" hidden><div class=\"sk-item\"><div class=\"sk-estimator sk-toggleable\"><input class=\"sk-toggleable__control sk-hidden--visually\" id=\"sk-estimator-id-2\" type=\"checkbox\" checked><label for=\"sk-estimator-id-2\" class=\"sk-toggleable__label sk-toggleable__label-arrow\">LogisticRegressionCV</label><div class=\"sk-toggleable__content\"><pre>LogisticRegressionCV(cv=5, max_iter=5000, n_jobs=4, solver=&#x27;saga&#x27;)</pre></div></div></div></div></div>"
      ],
      "text/plain": [
       "LogisticRegressionCV(cv=5, max_iter=5000, n_jobs=4, solver='saga')"
      ]
     },
     "execution_count": 32,
     "metadata": {},
     "output_type": "execute_result"
    }
   ],
   "source": [
    "'''from sklearn.linear_model import LogisticRegressionCV\n",
    "model = LogisticRegressionCV(solver='saga', cv=5, max_iter=5000, n_jobs=4)\n",
    "model.fit(train_set, train_stat)'''"
   ]
  },
  {
   "cell_type": "markdown",
   "id": "9dc56a6c",
   "metadata": {},
   "source": [
    "Instead of retraining, you can simply load the pickled model."
   ]
  },
  {
   "cell_type": "code",
   "execution_count": 81,
   "id": "44e9848e",
   "metadata": {},
   "outputs": [
    {
     "data": {
      "text/plain": [
       "0.8242619926199262"
      ]
     },
     "execution_count": 81,
     "metadata": {},
     "output_type": "execute_result"
    }
   ],
   "source": [
    "import pickle\n",
    "model = pickle.load(open('logregcvmodel.sav', 'rb'))"
   ]
  },
  {
   "cell_type": "code",
   "execution_count": 49,
   "id": "75d15811",
   "metadata": {},
   "outputs": [
    {
     "data": {
      "text/plain": [
       "0.8242619926199262"
      ]
     },
     "execution_count": 49,
     "metadata": {},
     "output_type": "execute_result"
    }
   ],
   "source": [
    "model.score(test_set,test_stat)"
   ]
  },
  {
   "cell_type": "code",
   "execution_count": 50,
   "id": "fcc9385c",
   "metadata": {},
   "outputs": [
    {
     "data": {
      "text/plain": [
       "{1: array([[0.78847262, 0.82074928, 0.82074928, 0.81440922, 0.81095101,\n",
       "         0.80864553, 0.80806916, 0.80806916, 0.80806916, 0.80806916],\n",
       "        [0.78674352, 0.82536023, 0.82478386, 0.81325648, 0.80634006,\n",
       "         0.80691643, 0.80691643, 0.80691643, 0.80691643, 0.80691643],\n",
       "        [0.78373702, 0.81141869, 0.80622837, 0.80046136, 0.79873126,\n",
       "         0.79930796, 0.79757785, 0.79757785, 0.79757785, 0.79757785],\n",
       "        [0.79296424, 0.82929642, 0.82525952, 0.80968858, 0.80103806,\n",
       "         0.79930796, 0.79930796, 0.79930796, 0.79930796, 0.79930796],\n",
       "        [0.77508651, 0.81314879, 0.81314879, 0.81545559, 0.8160323 ,\n",
       "         0.81372549, 0.81545559, 0.81430219, 0.81430219, 0.81430219]])}"
      ]
     },
     "execution_count": 50,
     "metadata": {},
     "output_type": "execute_result"
    }
   ],
   "source": [
    "model.scores_"
   ]
  },
  {
   "cell_type": "code",
   "execution_count": 52,
   "id": "be6e3c63",
   "metadata": {},
   "outputs": [],
   "source": [
    "predictions = model.predict(test_set)"
   ]
  },
  {
   "cell_type": "code",
   "execution_count": 53,
   "id": "cc50a904",
   "metadata": {},
   "outputs": [
    {
     "name": "stdout",
     "output_type": "stream",
     "text": [
      "True Positive(TP)  =  445\n",
      "False Positive(FP) =  93\n",
      "True Negative(TN)  =  1342\n",
      "False Negative(FN) =  288\n",
      "Accuracy of the binary classification = 0.824\n"
     ]
    }
   ],
   "source": [
    "from sklearn.metrics import confusion_matrix\n",
    "\n",
    "cm = confusion_matrix(test_stat, predictions)\n",
    "\n",
    "TN, FP, FN, TP = confusion_matrix(test_stat, predictions).ravel()\n",
    "\n",
    "print('True Positive(TP)  = ', TP)\n",
    "print('False Positive(FP) = ', FP)\n",
    "print('True Negative(TN)  = ', TN)\n",
    "print('False Negative(FN) = ', FN)\n",
    "\n",
    "accuracy =  (TP+TN) /(TP+FP+TN+FN)\n",
    "\n",
    "print('Accuracy of the binary classification = {:0.3f}'.format(accuracy))"
   ]
  },
  {
   "cell_type": "code",
   "execution_count": 77,
   "id": "43b9e0c6",
   "metadata": {},
   "outputs": [
    {
     "data": {
      "text/plain": [
       "8667    0\n",
       "3036    0\n",
       "4449    0\n",
       "5664    1\n",
       "8388    0\n",
       "       ..\n",
       "9161    0\n",
       "6096    0\n",
       "4860    0\n",
       "7379    0\n",
       "7547    0\n",
       "Name: approved, Length: 2168, dtype: int64"
      ]
     },
     "execution_count": 77,
     "metadata": {},
     "output_type": "execute_result"
    }
   ],
   "source": [
    "test_stat"
   ]
  },
  {
   "cell_type": "code",
   "execution_count": 78,
   "id": "80eec0a3",
   "metadata": {},
   "outputs": [
    {
     "data": {
      "text/plain": [
       "array([0.08129334, 0.20051739, 0.14112781, ..., 0.09307892, 0.73290162,\n",
       "       0.2420878 ])"
      ]
     },
     "execution_count": 78,
     "metadata": {},
     "output_type": "execute_result"
    }
   ],
   "source": [
    "model.predict_proba(test_set)[:,1]"
   ]
  },
  {
   "cell_type": "code",
   "execution_count": 75,
   "id": "54439ab5",
   "metadata": {},
   "outputs": [
    {
     "data": {
      "text/plain": [
       "0.12771165185479205"
      ]
     },
     "execution_count": 75,
     "metadata": {},
     "output_type": "execute_result"
    }
   ],
   "source": [
    "from sklearn.metrics import brier_score_loss\n",
    "brier_score = brier_score_loss(test_stat, model.predict_proba(test_set)[:,1])\n",
    "brier_score"
   ]
  },
  {
   "cell_type": "code",
   "execution_count": 76,
   "id": "0b035fe0",
   "metadata": {},
   "outputs": [
    {
     "data": {
      "text/plain": [
       "0.4052578552509612"
      ]
     },
     "execution_count": 76,
     "metadata": {},
     "output_type": "execute_result"
    }
   ],
   "source": [
    "from sklearn.metrics import log_loss\n",
    "loss = log_loss(test_stat, model.predict_proba(test_set)[:,1])\n",
    "loss"
   ]
  },
  {
   "cell_type": "code",
   "execution_count": 38,
   "id": "71551342",
   "metadata": {},
   "outputs": [
    {
     "data": {
      "text/plain": [
       "Index(['Author Count', 'is_partylist', 'party_1-pacman', 'party_a teacher',\n",
       "       'party_aambis-owa', 'party_abang lingkod', 'party_abono',\n",
       "       'party_act-cis', 'party_act-teachers', 'party_agap',\n",
       "       ...\n",
       "       'zamboanga sibugay', 'zone appropriating', 'zone appropriating funds',\n",
       "       'zone appropriating funds therefor', 'zone authority',\n",
       "       'zone authority appropriating', 'zone authority appropriating funds',\n",
       "       'zone freeport', 'zone providing', 'ꞌan act'],\n",
       "      dtype='object', length=3276)"
      ]
     },
     "execution_count": 38,
     "metadata": {},
     "output_type": "execute_result"
    }
   ],
   "source": [
    "small.drop('approved',axis=1).columns"
   ]
  },
  {
   "cell_type": "code",
   "execution_count": 39,
   "id": "9fdd7697",
   "metadata": {},
   "outputs": [
    {
     "data": {
      "text/plain": [
       "1142"
      ]
     },
     "execution_count": 39,
     "metadata": {},
     "output_type": "execute_result"
    }
   ],
   "source": [
    "model.n_features_in_"
   ]
  },
  {
   "cell_type": "code",
   "execution_count": 40,
   "id": "03d71523",
   "metadata": {},
   "outputs": [
    {
     "data": {
      "text/html": [
       "<div>\n",
       "<style scoped>\n",
       "    .dataframe tbody tr th:only-of-type {\n",
       "        vertical-align: middle;\n",
       "    }\n",
       "\n",
       "    .dataframe tbody tr th {\n",
       "        vertical-align: top;\n",
       "    }\n",
       "\n",
       "    .dataframe thead th {\n",
       "        text-align: right;\n",
       "    }\n",
       "</style>\n",
       "<table border=\"1\" class=\"dataframe\">\n",
       "  <thead>\n",
       "    <tr style=\"text-align: right;\">\n",
       "      <th></th>\n",
       "      <th>Author Count</th>\n",
       "      <th>is_partylist</th>\n",
       "      <th>party_1-pacman</th>\n",
       "      <th>party_a teacher</th>\n",
       "      <th>party_aambis-owa</th>\n",
       "      <th>party_abang lingkod</th>\n",
       "      <th>party_abono</th>\n",
       "      <th>party_act-cis</th>\n",
       "      <th>party_act-teachers</th>\n",
       "      <th>party_agap</th>\n",
       "      <th>...</th>\n",
       "      <th>zamboanga sibugay</th>\n",
       "      <th>zone appropriating</th>\n",
       "      <th>zone appropriating funds</th>\n",
       "      <th>zone appropriating funds therefor</th>\n",
       "      <th>zone authority</th>\n",
       "      <th>zone authority appropriating</th>\n",
       "      <th>zone authority appropriating funds</th>\n",
       "      <th>zone freeport</th>\n",
       "      <th>zone providing</th>\n",
       "      <th>ꞌan act</th>\n",
       "    </tr>\n",
       "  </thead>\n",
       "  <tbody>\n",
       "    <tr>\n",
       "      <th>0</th>\n",
       "      <td>0.114401</td>\n",
       "      <td>0.100202</td>\n",
       "      <td>0.028969</td>\n",
       "      <td>0.039771</td>\n",
       "      <td>0.046010</td>\n",
       "      <td>0.039054</td>\n",
       "      <td>0.036009</td>\n",
       "      <td>0.063906</td>\n",
       "      <td>0.037448</td>\n",
       "      <td>0.042447</td>\n",
       "      <td>...</td>\n",
       "      <td>0.000642</td>\n",
       "      <td>-0.001110</td>\n",
       "      <td>-0.001110</td>\n",
       "      <td>-0.001087</td>\n",
       "      <td>0.007771</td>\n",
       "      <td>0.009985</td>\n",
       "      <td>0.009985</td>\n",
       "      <td>0.000799</td>\n",
       "      <td>-0.000615</td>\n",
       "      <td>-0.001051</td>\n",
       "    </tr>\n",
       "    <tr>\n",
       "      <th>1</th>\n",
       "      <td>0.000456</td>\n",
       "      <td>-0.000998</td>\n",
       "      <td>0.001240</td>\n",
       "      <td>-0.000237</td>\n",
       "      <td>0.001918</td>\n",
       "      <td>0.002554</td>\n",
       "      <td>-0.000149</td>\n",
       "      <td>-0.003343</td>\n",
       "      <td>-0.002213</td>\n",
       "      <td>0.004736</td>\n",
       "      <td>...</td>\n",
       "      <td>-0.000615</td>\n",
       "      <td>-0.000653</td>\n",
       "      <td>-0.000653</td>\n",
       "      <td>-0.000648</td>\n",
       "      <td>-0.000281</td>\n",
       "      <td>-0.000192</td>\n",
       "      <td>-0.000192</td>\n",
       "      <td>-0.000282</td>\n",
       "      <td>-0.000254</td>\n",
       "      <td>-0.000176</td>\n",
       "    </tr>\n",
       "    <tr>\n",
       "      <th>2</th>\n",
       "      <td>0.002296</td>\n",
       "      <td>0.001529</td>\n",
       "      <td>0.000503</td>\n",
       "      <td>0.000885</td>\n",
       "      <td>0.000968</td>\n",
       "      <td>0.000633</td>\n",
       "      <td>0.000773</td>\n",
       "      <td>0.000284</td>\n",
       "      <td>0.000262</td>\n",
       "      <td>0.001499</td>\n",
       "      <td>...</td>\n",
       "      <td>-0.000292</td>\n",
       "      <td>-0.000496</td>\n",
       "      <td>-0.000496</td>\n",
       "      <td>-0.000491</td>\n",
       "      <td>-0.000024</td>\n",
       "      <td>0.000062</td>\n",
       "      <td>0.000062</td>\n",
       "      <td>-0.000186</td>\n",
       "      <td>-0.000212</td>\n",
       "      <td>-0.000249</td>\n",
       "    </tr>\n",
       "    <tr>\n",
       "      <th>3</th>\n",
       "      <td>-0.048775</td>\n",
       "      <td>-0.048469</td>\n",
       "      <td>-0.024810</td>\n",
       "      <td>-0.030233</td>\n",
       "      <td>-0.037736</td>\n",
       "      <td>-0.031457</td>\n",
       "      <td>-0.028824</td>\n",
       "      <td>-0.023791</td>\n",
       "      <td>-0.012221</td>\n",
       "      <td>-0.033591</td>\n",
       "      <td>...</td>\n",
       "      <td>0.002181</td>\n",
       "      <td>-0.000946</td>\n",
       "      <td>-0.000946</td>\n",
       "      <td>-0.000939</td>\n",
       "      <td>-0.007816</td>\n",
       "      <td>-0.010028</td>\n",
       "      <td>-0.010028</td>\n",
       "      <td>-0.001912</td>\n",
       "      <td>-0.000208</td>\n",
       "      <td>-0.000181</td>\n",
       "    </tr>\n",
       "    <tr>\n",
       "      <th>4</th>\n",
       "      <td>-0.003492</td>\n",
       "      <td>-0.001548</td>\n",
       "      <td>-0.002286</td>\n",
       "      <td>0.003718</td>\n",
       "      <td>-0.003389</td>\n",
       "      <td>-0.003723</td>\n",
       "      <td>-0.003060</td>\n",
       "      <td>-0.009880</td>\n",
       "      <td>-0.002160</td>\n",
       "      <td>-0.003603</td>\n",
       "      <td>...</td>\n",
       "      <td>-0.000572</td>\n",
       "      <td>-0.000718</td>\n",
       "      <td>-0.000718</td>\n",
       "      <td>-0.000716</td>\n",
       "      <td>-0.001237</td>\n",
       "      <td>-0.001557</td>\n",
       "      <td>-0.001557</td>\n",
       "      <td>-0.000521</td>\n",
       "      <td>-0.000179</td>\n",
       "      <td>0.000116</td>\n",
       "    </tr>\n",
       "    <tr>\n",
       "      <th>...</th>\n",
       "      <td>...</td>\n",
       "      <td>...</td>\n",
       "      <td>...</td>\n",
       "      <td>...</td>\n",
       "      <td>...</td>\n",
       "      <td>...</td>\n",
       "      <td>...</td>\n",
       "      <td>...</td>\n",
       "      <td>...</td>\n",
       "      <td>...</td>\n",
       "      <td>...</td>\n",
       "      <td>...</td>\n",
       "      <td>...</td>\n",
       "      <td>...</td>\n",
       "      <td>...</td>\n",
       "      <td>...</td>\n",
       "      <td>...</td>\n",
       "      <td>...</td>\n",
       "      <td>...</td>\n",
       "      <td>...</td>\n",
       "      <td>...</td>\n",
       "    </tr>\n",
       "    <tr>\n",
       "      <th>1137</th>\n",
       "      <td>0.000456</td>\n",
       "      <td>-0.000435</td>\n",
       "      <td>0.050618</td>\n",
       "      <td>-0.019117</td>\n",
       "      <td>-0.007898</td>\n",
       "      <td>-0.017610</td>\n",
       "      <td>-0.000049</td>\n",
       "      <td>-0.003585</td>\n",
       "      <td>0.019729</td>\n",
       "      <td>-0.023992</td>\n",
       "      <td>...</td>\n",
       "      <td>0.004021</td>\n",
       "      <td>0.013596</td>\n",
       "      <td>0.013596</td>\n",
       "      <td>0.013338</td>\n",
       "      <td>-0.028250</td>\n",
       "      <td>-0.016412</td>\n",
       "      <td>-0.016412</td>\n",
       "      <td>0.015105</td>\n",
       "      <td>-0.014750</td>\n",
       "      <td>-0.011140</td>\n",
       "    </tr>\n",
       "    <tr>\n",
       "      <th>1138</th>\n",
       "      <td>-0.001914</td>\n",
       "      <td>0.002197</td>\n",
       "      <td>-0.053485</td>\n",
       "      <td>-0.003568</td>\n",
       "      <td>-0.025716</td>\n",
       "      <td>0.029120</td>\n",
       "      <td>-0.065895</td>\n",
       "      <td>0.032444</td>\n",
       "      <td>0.011080</td>\n",
       "      <td>0.029750</td>\n",
       "      <td>...</td>\n",
       "      <td>-0.003113</td>\n",
       "      <td>-0.006317</td>\n",
       "      <td>-0.006317</td>\n",
       "      <td>-0.007541</td>\n",
       "      <td>0.019823</td>\n",
       "      <td>-0.000159</td>\n",
       "      <td>-0.000159</td>\n",
       "      <td>-0.007450</td>\n",
       "      <td>0.004226</td>\n",
       "      <td>-0.006240</td>\n",
       "    </tr>\n",
       "    <tr>\n",
       "      <th>1139</th>\n",
       "      <td>0.000508</td>\n",
       "      <td>-0.004019</td>\n",
       "      <td>0.031213</td>\n",
       "      <td>-0.025826</td>\n",
       "      <td>-0.061451</td>\n",
       "      <td>0.010958</td>\n",
       "      <td>-0.030905</td>\n",
       "      <td>0.038779</td>\n",
       "      <td>0.017450</td>\n",
       "      <td>-0.033143</td>\n",
       "      <td>...</td>\n",
       "      <td>0.013643</td>\n",
       "      <td>-0.001714</td>\n",
       "      <td>-0.001714</td>\n",
       "      <td>-0.001422</td>\n",
       "      <td>-0.003346</td>\n",
       "      <td>0.003645</td>\n",
       "      <td>0.003645</td>\n",
       "      <td>0.008112</td>\n",
       "      <td>0.006423</td>\n",
       "      <td>-0.004060</td>\n",
       "    </tr>\n",
       "    <tr>\n",
       "      <th>1140</th>\n",
       "      <td>-0.000229</td>\n",
       "      <td>0.000121</td>\n",
       "      <td>0.034352</td>\n",
       "      <td>0.046426</td>\n",
       "      <td>-0.022764</td>\n",
       "      <td>-0.008468</td>\n",
       "      <td>-0.011415</td>\n",
       "      <td>0.005593</td>\n",
       "      <td>0.027247</td>\n",
       "      <td>-0.019482</td>\n",
       "      <td>...</td>\n",
       "      <td>0.008886</td>\n",
       "      <td>0.012267</td>\n",
       "      <td>0.012267</td>\n",
       "      <td>0.010022</td>\n",
       "      <td>0.022901</td>\n",
       "      <td>0.002295</td>\n",
       "      <td>0.002295</td>\n",
       "      <td>0.009711</td>\n",
       "      <td>-0.017725</td>\n",
       "      <td>0.000083</td>\n",
       "    </tr>\n",
       "    <tr>\n",
       "      <th>1141</th>\n",
       "      <td>0.000348</td>\n",
       "      <td>0.003784</td>\n",
       "      <td>-0.045156</td>\n",
       "      <td>-0.017279</td>\n",
       "      <td>-0.034368</td>\n",
       "      <td>0.053855</td>\n",
       "      <td>-0.020941</td>\n",
       "      <td>0.008436</td>\n",
       "      <td>0.015967</td>\n",
       "      <td>-0.037040</td>\n",
       "      <td>...</td>\n",
       "      <td>-0.000332</td>\n",
       "      <td>0.006604</td>\n",
       "      <td>0.006604</td>\n",
       "      <td>0.009230</td>\n",
       "      <td>0.024132</td>\n",
       "      <td>0.006069</td>\n",
       "      <td>0.006069</td>\n",
       "      <td>0.008620</td>\n",
       "      <td>0.037674</td>\n",
       "      <td>0.001609</td>\n",
       "    </tr>\n",
       "  </tbody>\n",
       "</table>\n",
       "<p>1142 rows × 3276 columns</p>\n",
       "</div>"
      ],
      "text/plain": [
       "      Author Count  is_partylist  party_1-pacman  party_a teacher  \\\n",
       "0         0.114401      0.100202        0.028969         0.039771   \n",
       "1         0.000456     -0.000998        0.001240        -0.000237   \n",
       "2         0.002296      0.001529        0.000503         0.000885   \n",
       "3        -0.048775     -0.048469       -0.024810        -0.030233   \n",
       "4        -0.003492     -0.001548       -0.002286         0.003718   \n",
       "...            ...           ...             ...              ...   \n",
       "1137      0.000456     -0.000435        0.050618        -0.019117   \n",
       "1138     -0.001914      0.002197       -0.053485        -0.003568   \n",
       "1139      0.000508     -0.004019        0.031213        -0.025826   \n",
       "1140     -0.000229      0.000121        0.034352         0.046426   \n",
       "1141      0.000348      0.003784       -0.045156        -0.017279   \n",
       "\n",
       "      party_aambis-owa  party_abang lingkod  party_abono  party_act-cis  \\\n",
       "0             0.046010             0.039054     0.036009       0.063906   \n",
       "1             0.001918             0.002554    -0.000149      -0.003343   \n",
       "2             0.000968             0.000633     0.000773       0.000284   \n",
       "3            -0.037736            -0.031457    -0.028824      -0.023791   \n",
       "4            -0.003389            -0.003723    -0.003060      -0.009880   \n",
       "...                ...                  ...          ...            ...   \n",
       "1137         -0.007898            -0.017610    -0.000049      -0.003585   \n",
       "1138         -0.025716             0.029120    -0.065895       0.032444   \n",
       "1139         -0.061451             0.010958    -0.030905       0.038779   \n",
       "1140         -0.022764            -0.008468    -0.011415       0.005593   \n",
       "1141         -0.034368             0.053855    -0.020941       0.008436   \n",
       "\n",
       "      party_act-teachers  party_agap  ...  zamboanga sibugay  \\\n",
       "0               0.037448    0.042447  ...           0.000642   \n",
       "1              -0.002213    0.004736  ...          -0.000615   \n",
       "2               0.000262    0.001499  ...          -0.000292   \n",
       "3              -0.012221   -0.033591  ...           0.002181   \n",
       "4              -0.002160   -0.003603  ...          -0.000572   \n",
       "...                  ...         ...  ...                ...   \n",
       "1137            0.019729   -0.023992  ...           0.004021   \n",
       "1138            0.011080    0.029750  ...          -0.003113   \n",
       "1139            0.017450   -0.033143  ...           0.013643   \n",
       "1140            0.027247   -0.019482  ...           0.008886   \n",
       "1141            0.015967   -0.037040  ...          -0.000332   \n",
       "\n",
       "      zone appropriating  zone appropriating funds  \\\n",
       "0              -0.001110                 -0.001110   \n",
       "1              -0.000653                 -0.000653   \n",
       "2              -0.000496                 -0.000496   \n",
       "3              -0.000946                 -0.000946   \n",
       "4              -0.000718                 -0.000718   \n",
       "...                  ...                       ...   \n",
       "1137            0.013596                  0.013596   \n",
       "1138           -0.006317                 -0.006317   \n",
       "1139           -0.001714                 -0.001714   \n",
       "1140            0.012267                  0.012267   \n",
       "1141            0.006604                  0.006604   \n",
       "\n",
       "      zone appropriating funds therefor  zone authority  \\\n",
       "0                             -0.001087        0.007771   \n",
       "1                             -0.000648       -0.000281   \n",
       "2                             -0.000491       -0.000024   \n",
       "3                             -0.000939       -0.007816   \n",
       "4                             -0.000716       -0.001237   \n",
       "...                                 ...             ...   \n",
       "1137                           0.013338       -0.028250   \n",
       "1138                          -0.007541        0.019823   \n",
       "1139                          -0.001422       -0.003346   \n",
       "1140                           0.010022        0.022901   \n",
       "1141                           0.009230        0.024132   \n",
       "\n",
       "      zone authority appropriating  zone authority appropriating funds  \\\n",
       "0                         0.009985                            0.009985   \n",
       "1                        -0.000192                           -0.000192   \n",
       "2                         0.000062                            0.000062   \n",
       "3                        -0.010028                           -0.010028   \n",
       "4                        -0.001557                           -0.001557   \n",
       "...                            ...                                 ...   \n",
       "1137                     -0.016412                           -0.016412   \n",
       "1138                     -0.000159                           -0.000159   \n",
       "1139                      0.003645                            0.003645   \n",
       "1140                      0.002295                            0.002295   \n",
       "1141                      0.006069                            0.006069   \n",
       "\n",
       "      zone freeport  zone providing   ꞌan act  \n",
       "0          0.000799       -0.000615 -0.001051  \n",
       "1         -0.000282       -0.000254 -0.000176  \n",
       "2         -0.000186       -0.000212 -0.000249  \n",
       "3         -0.001912       -0.000208 -0.000181  \n",
       "4         -0.000521       -0.000179  0.000116  \n",
       "...             ...             ...       ...  \n",
       "1137       0.015105       -0.014750 -0.011140  \n",
       "1138      -0.007450        0.004226 -0.006240  \n",
       "1139       0.008112        0.006423 -0.004060  \n",
       "1140       0.009711       -0.017725  0.000083  \n",
       "1141       0.008620        0.037674  0.001609  \n",
       "\n",
       "[1142 rows x 3276 columns]"
      ]
     },
     "execution_count": 40,
     "metadata": {},
     "output_type": "execute_result"
    }
   ],
   "source": [
    "pca_cols = small.drop('approved', axis=1).columns\n",
    "strong_rel = pd.DataFrame(pca.components_,columns=small.drop('approved', axis=1).columns)\n",
    "strong_rel"
   ]
  },
  {
   "cell_type": "code",
   "execution_count": 41,
   "metadata": {},
   "outputs": [
    {
     "data": {
      "text/plain": [
       "0                   (Author Count, 0.11440066447174617)\n",
       "1                       (act 10923, 0.1372788123611265)\n",
       "2                    (11 12 public, 0.1465452997657302)\n",
       "3       (judiciary reorganization, 0.12882047050415404)\n",
       "4                 (building grant, 0.16686654219698946)\n",
       "                             ...                       \n",
       "1137                     (act 2016, 0.1043683004787834)\n",
       "1138                  (ref_health, -0.1245832064352632)\n",
       "1139                 (known civil, 0.12879892865476758)\n",
       "1140     (government procurement, -0.13213510499375436)\n",
       "1141          (overseas filipinos, -0.1064238353044729)\n",
       "Length: 1142, dtype: object"
      ]
     },
     "execution_count": 41,
     "metadata": {},
     "output_type": "execute_result"
    }
   ],
   "source": [
    "import numpy as np\n",
    "def get_max_column(row):\n",
    "    if type(row) is float:\n",
    "        return\n",
    "    max_i = np.argmax(row.abs())\n",
    "    return (pca_cols[max_i],row[max_i])\n",
    "\n",
    "contributions = strong_rel.apply(get_max_column, axis=1)\n",
    "contributions\n"
   ]
  },
  {
   "cell_type": "code",
   "execution_count": 42,
   "id": "31a6bcbd",
   "metadata": {},
   "outputs": [
    {
     "data": {
      "text/html": [
       "<div>\n",
       "<style scoped>\n",
       "    .dataframe tbody tr th:only-of-type {\n",
       "        vertical-align: middle;\n",
       "    }\n",
       "\n",
       "    .dataframe tbody tr th {\n",
       "        vertical-align: top;\n",
       "    }\n",
       "\n",
       "    .dataframe thead th {\n",
       "        text-align: right;\n",
       "    }\n",
       "</style>\n",
       "<table border=\"1\" class=\"dataframe\">\n",
       "  <thead>\n",
       "    <tr style=\"text-align: right;\">\n",
       "      <th></th>\n",
       "      <th>factor</th>\n",
       "      <th>coef</th>\n",
       "    </tr>\n",
       "  </thead>\n",
       "  <tbody>\n",
       "    <tr>\n",
       "      <th>0</th>\n",
       "      <td>Author Count</td>\n",
       "      <td>0.114401</td>\n",
       "    </tr>\n",
       "    <tr>\n",
       "      <th>1</th>\n",
       "      <td>act 10923</td>\n",
       "      <td>0.137279</td>\n",
       "    </tr>\n",
       "    <tr>\n",
       "      <th>2</th>\n",
       "      <td>11 12 public</td>\n",
       "      <td>0.146545</td>\n",
       "    </tr>\n",
       "    <tr>\n",
       "      <th>3</th>\n",
       "      <td>judiciary reorganization</td>\n",
       "      <td>0.128820</td>\n",
       "    </tr>\n",
       "    <tr>\n",
       "      <th>4</th>\n",
       "      <td>building grant</td>\n",
       "      <td>0.166867</td>\n",
       "    </tr>\n",
       "    <tr>\n",
       "      <th>...</th>\n",
       "      <td>...</td>\n",
       "      <td>...</td>\n",
       "    </tr>\n",
       "    <tr>\n",
       "      <th>1137</th>\n",
       "      <td>act 2016</td>\n",
       "      <td>0.104368</td>\n",
       "    </tr>\n",
       "    <tr>\n",
       "      <th>1138</th>\n",
       "      <td>ref_health</td>\n",
       "      <td>-0.124583</td>\n",
       "    </tr>\n",
       "    <tr>\n",
       "      <th>1139</th>\n",
       "      <td>known civil</td>\n",
       "      <td>0.128799</td>\n",
       "    </tr>\n",
       "    <tr>\n",
       "      <th>1140</th>\n",
       "      <td>government procurement</td>\n",
       "      <td>-0.132135</td>\n",
       "    </tr>\n",
       "    <tr>\n",
       "      <th>1141</th>\n",
       "      <td>overseas filipinos</td>\n",
       "      <td>-0.106424</td>\n",
       "    </tr>\n",
       "  </tbody>\n",
       "</table>\n",
       "<p>1142 rows × 2 columns</p>\n",
       "</div>"
      ],
      "text/plain": [
       "                        factor      coef\n",
       "0                 Author Count  0.114401\n",
       "1                    act 10923  0.137279\n",
       "2                 11 12 public  0.146545\n",
       "3     judiciary reorganization  0.128820\n",
       "4               building grant  0.166867\n",
       "...                        ...       ...\n",
       "1137                  act 2016  0.104368\n",
       "1138                ref_health -0.124583\n",
       "1139               known civil  0.128799\n",
       "1140    government procurement -0.132135\n",
       "1141        overseas filipinos -0.106424\n",
       "\n",
       "[1142 rows x 2 columns]"
      ]
     },
     "execution_count": 42,
     "metadata": {},
     "output_type": "execute_result"
    }
   ],
   "source": [
    "out = pd.DataFrame(contributions.tolist(), columns=['factor','coef'])\n",
    "out"
   ]
  },
  {
   "cell_type": "code",
   "execution_count": 43,
   "id": "bfdde261",
   "metadata": {},
   "outputs": [],
   "source": [
    "abs_values = strong_rel.abs().sum().sort_values(ascending=False)"
   ]
  },
  {
   "cell_type": "code",
   "execution_count": 44,
   "id": "9def26ef",
   "metadata": {},
   "outputs": [
    {
     "data": {
      "text/plain": [
       "party_an waray             22.900045\n",
       "national health            22.880870\n",
       "act strengthening          22.838235\n",
       "cebu known                 22.728858\n",
       "located barangay           22.705563\n",
       "                             ...    \n",
       "ni ani kita store           1.625504\n",
       "ni ani                      1.625504\n",
       "ani kita store barangay     1.625504\n",
       "ani kita                    1.625504\n",
       "Author Count                1.347907\n",
       "Length: 3276, dtype: float64"
      ]
     },
     "execution_count": 44,
     "metadata": {},
     "output_type": "execute_result"
    }
   ],
   "source": [
    "abs_values"
   ]
  },
  {
   "cell_type": "code",
   "execution_count": 45,
   "id": "771f4627",
   "metadata": {},
   "outputs": [],
   "source": [
    "abs_values.to_csv('greatest_abs_value.csv', encoding='utf-8')"
   ]
  },
  {
   "cell_type": "code",
   "execution_count": 46,
   "id": "e0f8aeb8",
   "metadata": {},
   "outputs": [
    {
     "data": {
      "text/plain": [
       "road network               4.013970\n",
       "ref_visayas_development    3.430597\n",
       "pandemic purposes          3.143547\n",
       "ref_west_philippine_sea    3.032071\n",
       "national policy            2.499424\n",
       "                             ...   \n",
       "presently known           -2.050348\n",
       "act authorizing           -2.057190\n",
       "citizen service           -2.116261\n",
       "government agencies       -2.157544\n",
       "act defining              -2.309154\n",
       "Length: 3276, dtype: float64"
      ]
     },
     "execution_count": 46,
     "metadata": {},
     "output_type": "execute_result"
    }
   ],
   "source": [
    "non_abs_values = strong_rel.sum().sort_values(ascending=False)\n",
    "non_abs_values"
   ]
  },
  {
   "cell_type": "code",
   "execution_count": 47,
   "id": "d93bd163",
   "metadata": {},
   "outputs": [],
   "source": [
    "non_abs_values.to_csv('non_abs_values.csv', encoding='utf-8')"
   ]
  },
  {
   "cell_type": "code",
   "execution_count": 48,
   "id": "ae02c2f6",
   "metadata": {},
   "outputs": [],
   "source": [
    "out.to_csv('factors_and_coefs.csv', encoding='utf-8')"
   ]
  },
  {
   "cell_type": "code",
   "execution_count": 79,
   "id": "38d4943d",
   "metadata": {},
   "outputs": [],
   "source": [
    "import pickle\n",
    "pickle.dump(model, open('logregcvmodel.sav', 'wb'))"
   ]
  }
 ],
 "metadata": {
  "interpreter": {
   "hash": "413c54d42d867d78bc5693b88112002b4b75f03abc9fed1665b973f73c05d110"
  },
  "kernelspec": {
   "display_name": "Python 3.10.0 64-bit",
   "language": "python",
   "name": "python3"
  },
  "language_info": {
   "codemirror_mode": {
    "name": "ipython",
    "version": 3
   },
   "file_extension": ".py",
   "mimetype": "text/x-python",
   "name": "python",
   "nbconvert_exporter": "python",
   "pygments_lexer": "ipython3",
   "version": "3.10.0"
  }
 },
 "nbformat": 4,
 "nbformat_minor": 5
}
